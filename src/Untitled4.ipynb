{
 "cells": [
  {
   "cell_type": "code",
   "execution_count": 18,
   "metadata": {},
   "outputs": [
    {
     "data": {
      "text/plain": [
       "{'time_to_beat': 1500,\n",
       " 'data': [105.21936106681824,\n",
       "  100.15744304656982,\n",
       "  100.16757297515869,\n",
       "  100.17498111724854,\n",
       "  150.24569582939148,\n",
       "  230.39739608764648,\n",
       "  95.18077087402344,\n",
       "  95.16779017448425,\n",
       "  100.18268418312073,\n",
       "  105.20827794075012,\n",
       "  240.4704568386078,\n",
       "  95.17048501968384,\n",
       "  100.1798448562622,\n",
       "  100.17930388450623,\n",
       "  105.18906092643738,\n",
       "  95.16049098968506,\n",
       "  150.23825788497925,\n",
       "  240.40958714485168,\n",
       "  100.1760528087616,\n",
       "  155.26212620735168],\n",
       " 'trials_until_goal': [3,\n",
       "  3,\n",
       "  3,\n",
       "  3,\n",
       "  6,\n",
       "  3,\n",
       "  3,\n",
       "  3,\n",
       "  3,\n",
       "  4,\n",
       "  3,\n",
       "  3,\n",
       "  3,\n",
       "  3,\n",
       "  4,\n",
       "  3,\n",
       "  6,\n",
       "  3,\n",
       "  3,\n",
       "  6],\n",
       " 'iterations': 20,\n",
       " 'best_runs': [1409.0,\n",
       "  1446.0,\n",
       "  1420.0,\n",
       "  1430.0,\n",
       "  1179.0,\n",
       "  1438.0,\n",
       "  1372.0,\n",
       "  1353.0,\n",
       "  1408.0,\n",
       "  1415.0,\n",
       "  1416.0,\n",
       "  1361.0,\n",
       "  1492.0,\n",
       "  1458.0,\n",
       "  1387.0,\n",
       "  1359.0,\n",
       "  1262.0,\n",
       "  1443.0,\n",
       "  1455.0,\n",
       "  1439.0]}"
      ]
     },
     "execution_count": 18,
     "metadata": {},
     "output_type": "execute_result"
    }
   ],
   "source": [
    "import glob\n",
    "import os\n",
    "import json\n",
    "\n",
    "list_of_files = glob.glob(\"/Users/rahulbalakrishnan/Desktop/data/threshold/*\") \n",
    "\n",
    "\n",
    "latest_file = max(list_of_files, key=os.path.getctime)\n",
    "\n",
    "\n",
    "with open(latest_file) as f: \n",
    "    data_array = json.loads(f.read())\n",
    "    \n",
    "data_array"
   ]
  },
  {
   "cell_type": "code",
   "execution_count": 20,
   "metadata": {},
   "outputs": [
    {
     "data": {
      "text/plain": [
       "Text(0.5, 0, 'Time(sec) to beat 1500 ms')"
      ]
     },
     "execution_count": 20,
     "metadata": {},
     "output_type": "execute_result"
    },
    {
     "data": {
      "image/png": "[encoded data removed]",
      "text/plain": [
       "<Figure size 432x288 with 1 Axes>"
      ]
     },
     "metadata": {
      "needs_background": "light"
     },
     "output_type": "display_data"
    }
   ],
   "source": [
    "import matplotlib.pyplot as plt\n",
    "import numpy as np\n",
    "\n",
    "plt.hist(data_array[\"data\"], bins = max(3, data_array[\"iterations\"] // 2))\n",
    "plt.ylabel(\"Frequency over {} iterations\".format(data_array[\"iterations\"]));\n",
    "plt.xlabel(\"Time(sec) to beat {} ms\".format(data_array[\"time_to_beat\"]))"
   ]
  },
  {
   "cell_type": "code",
   "execution_count": 21,
   "metadata": {},
   "outputs": [
    {
     "data": {
      "text/plain": [
       "Text(0.5, 0, 'Trials to beat 1500 ms')"
      ]
     },
     "execution_count": 21,
     "metadata": {},
     "output_type": "execute_result"
    },
    {
     "data": {
      "image/png": "[encoded data removed]",
      "text/plain": [
       "<Figure size 432x288 with 1 Axes>"
      ]
     },
     "metadata": {
      "needs_background": "light"
     },
     "output_type": "display_data"
    }
   ],
   "source": [
    "plt.hist(data_array[\"trials_until_goal\"], bins = max(3, data_array[\"iterations\"] // 2))\n",
    "plt.ylabel(\"Frequency over {} iterations\".format(data_array[\"iterations\"]));\n",
    "plt.xlabel(\"Trials to beat {} ms\".format(data_array[\"time_to_beat\"]))"
   ]
  },
  {
   "cell_type": "code",
   "execution_count": 24,
   "metadata": {},
   "outputs": [
    {
     "data": {
      "text/plain": [
       "{'duration': [855.5980122089386, 861.954910993576],\n",
       " 'experiment_count': [4, 4],\n",
       " 'mean_result': [1440.0, 1309.0],\n",
       " 'time_to_beat': 1500}"
      ]
     },
     "execution_count": 24,
     "metadata": {},
     "output_type": "execute_result"
    }
   ],
   "source": [
    "list_of_files = glob.glob(\"/Users/rahulbalakrishnan/Desktop/data/tbot_threshold/*\") \n",
    "latest_file = max(list_of_files, key=os.path.getctime)\n",
    "with open(latest_file) as f: \n",
    "    data_array = json.loads(f.read())\n",
    "    \n",
    "data_array"
   ]
  },
  {
   "cell_type": "code",
   "execution_count": 4,
   "metadata": {},
   "outputs": [
    {
     "name": "stdout",
     "output_type": "stream",
     "text": [
      "Duration is 7200\n",
      "239\n",
      "72\n"
     ]
    },
    {
     "data": {
      "image/png": "[encoded data removed]",
      "text/plain": [
       "<Figure size 432x288 with 1 Axes>"
      ]
     },
     "metadata": {
      "needs_background": "light"
     },
     "output_type": "display_data"
    }
   ],
   "source": [
    "import numpy as np \n",
    "import glob \n",
    "import matplotlib.pyplot as plt\n",
    "import os\n",
    "import json \n",
    "import pylab\n",
    "\n",
    "\n",
    "list_of_files = glob.glob(\"/Users/rahulbalakrishnan/Desktop/data/threshold/*\") \n",
    "latest_file_spearmint = max(list_of_files, key=os.path.getctime)\n",
    "with open(latest_file_spearmint) as f: \n",
    "    spearmint_data_array = json.loads(f.read())\n",
    "    \n",
    "duration = spearmint_data_array[\"duration\"]\n",
    "# duration = 45*60\n",
    "print(\"Duration is {}\".format(duration))\n",
    "polling_frequency = spearmint_data_array[\"polling_frequency\"]\n",
    "time_axis = np.arange(0, duration, polling_frequency)\n",
    "\n",
    "spearmint_trials = []\n",
    "for trial in spearmint_data_array[\"results\"]:\n",
    "    list_to_add = [lst[0] for lst in trial]\n",
    "    print(len(list_to_add))\n",
    "    while(len(list_to_add) < len(time_axis)): \n",
    "        list_to_add.append(np.nan)\n",
    "    spearmint_trials.append(list_to_add)\n",
    "\n",
    "list_of_files = glob.glob(\"/Users/rahulbalakrishnan/Desktop/data/tbot_threshold/*\") \n",
    "latest_file_tbot = max(list_of_files, key=os.path.getctime)\n",
    "with open(latest_file_tbot) as f: \n",
    "    tbot_data_array = json.loads(f.read())\n",
    "\n",
    "tbot_trials = []\n",
    "for trial in tbot_data_array[\"results\"]: \n",
    "    list_to_add = [lst[0] for lst in trial]\n",
    "    print(len(list_to_add))\n",
    "    while(len(list_to_add) < len(time_axis)): \n",
    "        list_to_add.append(np.nan)\n",
    "    tbot_trials.append(list_to_add)\n",
    "    \n",
    "\n",
    "    \n",
    "\n",
    "first = True \n",
    "for trial in tbot_trials: \n",
    "    if first: \n",
    "        plt.plot(time_axis, trial, color=\"blue\", label=\"throttlebot\")\n",
    "        first=False \n",
    "    else: \n",
    "        plt.plot(time_axis, trial, color=\"blue\")\n",
    "\n",
    "first = True \n",
    "for trial in spearmint_trials: \n",
    "    if first: \n",
    "        plt.plot(time_axis, trial, color=\"red\", label=\"spearmint\")\n",
    "        first=False \n",
    "    else: \n",
    "        plt.plot(time_axis, trial, color=\"red\")\n",
    "\n",
    "\n",
    "plt.plot()\n",
    "plt.xlabel(\"Time since experiment start\")\n",
    "plt.ylabel(\"Lowest Latency so far\")\n",
    "plt.axis([0, duration,0, 100000])\n",
    "pylab.legend(loc='upper right')\n",
    "plt.show()"
   ]
  },
  {
   "cell_type": "code",
   "execution_count": 10,
   "metadata": {},
   "outputs": [
    {
     "name": "stdout",
     "output_type": "stream",
     "text": [
      "Duration is 1200\n",
      "40\n",
      "40\n",
      "40\n",
      "40\n",
      "39\n"
     ]
    },
    {
     "data": {
      "image/png": "[encoded data removed]",
      "text/plain": [
       "<Figure size 432x288 with 1 Axes>"
      ]
     },
     "metadata": {
      "needs_background": "light"
     },
     "output_type": "display_data"
    }
   ],
   "source": [
    "import numpy as np \n",
    "import glob \n",
    "import matplotlib.pyplot as plt\n",
    "import os\n",
    "import json \n",
    "import pylab\n",
    "\n",
    "\n",
    "latest_file_spearmint = \"/Users/rahulbalakrishnan/Desktop/262_data/random_search_experiments/mean/experiment_2_random_search/data_12-11-2019-17-31-49\"\n",
    "with open(latest_file_spearmint) as f: \n",
    "    spearmint_data_array = json.loads(f.read())\n",
    "    \n",
    "duration = spearmint_data_array[\"duration\"]\n",
    "# duration = 45*60\n",
    "print(\"Duration is {}\".format(duration))\n",
    "polling_frequency = spearmint_data_array[\"polling_frequency\"]\n",
    "time_axis = np.arange(0, duration, polling_frequency)\n",
    "\n",
    "spearmint_trials = []\n",
    "for trial in spearmint_data_array[\"results\"]:\n",
    "    list_to_add = [lst[0] for lst in trial]\n",
    "    print(len(list_to_add))\n",
    "    while(len(list_to_add) < len(time_axis)): \n",
    "        list_to_add.append(np.nan)\n",
    "    spearmint_trials.append(list_to_add)\n",
    "\n",
    "latest_file_spearmint = \"/Users/rahulbalakrishnan/Desktop/262_data/random_search_experiments/mean/experiment_5_random_search/data_12-11-2019-18-08-30\"\n",
    "with open(latest_file_spearmint) as f: \n",
    "    spearmint_data_array2 = json.loads(f.read())\n",
    "\n",
    "spearmint_trials2 = []\n",
    "for trial in spearmint_data_array2[\"results\"]:\n",
    "    list_to_add = [lst[0] for lst in trial]\n",
    "    print(len(list_to_add))\n",
    "    while(len(list_to_add) < len(time_axis)): \n",
    "        list_to_add.append(np.nan)\n",
    "    spearmint_trials2.append(list_to_add)\n",
    "    \n",
    "latest_file_spearmint = \"/Users/rahulbalakrishnan/Desktop/262_data/random_search_experiments/mean/experiment_15_random_search/data_12-11-2019-18-32-17\"\n",
    "with open(latest_file_spearmint) as f: \n",
    "    spearmint_data_array3 = json.loads(f.read())\n",
    "\n",
    "spearmint_trials3 = []\n",
    "for trial in spearmint_data_array3[\"results\"]:\n",
    "    list_to_add = [lst[0] for lst in trial]\n",
    "    print(len(list_to_add))\n",
    "    while(len(list_to_add) < len(time_axis)): \n",
    "        list_to_add.append(np.nan)\n",
    "    spearmint_trials3.append(list_to_add)\n",
    "    \n",
    "\n",
    "    \n",
    "\n",
    "first = True \n",
    "for trial in spearmint_trials[1:2]: \n",
    "    if first: \n",
    "        plt.plot(time_axis, trial, color=\"blue\", label=\"spearmint2\")\n",
    "        first=False \n",
    "    else: \n",
    "        plt.plot(time_axis, trial, color=\"blue\")\n",
    "\n",
    "first = True \n",
    "for trial in spearmint_trials2: \n",
    "    if first: \n",
    "        plt.plot(time_axis, trial, color=\"red\", label=\"spearmint5\")\n",
    "        first=False \n",
    "    else: \n",
    "        plt.plot(time_axis, trial, color=\"red\")\n",
    "        \n",
    "first = True \n",
    "for trial in spearmint_trials3: \n",
    "    if first: \n",
    "        plt.plot(time_axis, trial, color=\"green\", label=\"spearmint15\")\n",
    "        first=False \n",
    "    else: \n",
    "        plt.plot(time_axis, trial, color=\"green\")\n",
    "\n",
    "\n",
    "plt.plot()\n",
    "plt.xlabel(\"Time since experiment start\")\n",
    "plt.ylabel(\"Lowest Latency so far\")\n",
    "plt.axis([0, duration,0, 10000])\n",
    "pylab.legend(loc='upper right')\n",
    "plt.show()"
   ]
  },
  {
   "cell_type": "code",
   "execution_count": null,
   "metadata": {},
   "outputs": [],
   "source": []
  }
 ],
 "metadata": {
  "kernelspec": {
   "display_name": "Python 3",
   "language": "python",
   "name": "python3"
  },
  "language_info": {
   "codemirror_mode": {
    "name": "ipython",
    "version": 3
   },
   "file_extension": ".py",
   "mimetype": "text/x-python",
   "name": "python",
   "nbconvert_exporter": "python",
   "pygments_lexer": "ipython3",
   "version": "3.6.8"
  }
 },
 "nbformat": 4,
 "nbformat_minor": 2
}
